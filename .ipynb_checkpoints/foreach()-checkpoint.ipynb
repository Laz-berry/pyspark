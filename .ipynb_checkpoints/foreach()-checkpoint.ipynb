{
 "cells": [
  {
   "cell_type": "code",
   "execution_count": 1,
   "id": "03b49d49-4cba-479a-beee-7bfa43aca754",
   "metadata": {},
   "outputs": [],
   "source": [
    "import findspark\n",
    "findspark.init()"
   ]
  },
  {
   "cell_type": "code",
   "execution_count": 2,
   "id": "0375a8a6-bd7c-4130-bc04-d3237bbe9fc9",
   "metadata": {},
   "outputs": [
    {
     "data": {
      "text/plain": [
       "' Pyspark foreach() '"
      ]
     },
     "execution_count": 2,
     "metadata": {},
     "output_type": "execute_result"
    }
   ],
   "source": [
    "\"\"\" Pyspark foreach() \"\"\"\n",
    "# 누산기를 조작, DF 결과를 RDBMS 테이블, Kafka 주제 및 기타 외부 소스에 저장"
   ]
  },
  {
   "cell_type": "code",
   "execution_count": 3,
   "id": "b3d3783f-b62b-4017-92f2-cddf6d181394",
   "metadata": {},
   "outputs": [
    {
     "name": "stdout",
     "output_type": "stream",
     "text": [
      "+-----+------------+\n",
      "|Seqno|        Name|\n",
      "+-----+------------+\n",
      "|    1|  john jones|\n",
      "|    2|tracey smith|\n",
      "|    3| amy sanders|\n",
      "+-----+------------+\n",
      "\n"
     ]
    }
   ],
   "source": [
    "# Import\n",
    "from pyspark.sql import SparkSession\n",
    "\n",
    "# Create SparkSession\n",
    "spark = SparkSession.builder.appName('SparkByExamples.com') \\\n",
    "                    .getOrCreate()\n",
    "\n",
    "# Prepare Data\n",
    "columns = [\"Seqno\",\"Name\"]\n",
    "data = [(\"1\", \"john jones\"),\n",
    "    (\"2\", \"tracey smith\"),\n",
    "    (\"3\", \"amy sanders\")]\n",
    "\n",
    "# Create DataFrame\n",
    "df = spark.createDataFrame(data=data,schema=columns)\n",
    "df.show()\n",
    "\n",
    "# foreach() Example\n",
    "def f(df):\n",
    "    print(df.Seqno)\n",
    "df.foreach(f)"
   ]
  },
  {
   "cell_type": "code",
   "execution_count": 4,
   "id": "6e98ad60-4acc-497c-bfb2-77750766dbf2",
   "metadata": {},
   "outputs": [
    {
     "name": "stdout",
     "output_type": "stream",
     "text": [
      "6\n"
     ]
    }
   ],
   "source": [
    "# foreach() with accumulator Example\n",
    "accum = spark.sparkContext.accumulator(0)\n",
    "df.foreach(lambda x:accum.add(int(x.Seqno)))\n",
    "print(accum.value) #Accessed by driver"
   ]
  },
  {
   "cell_type": "code",
   "execution_count": 5,
   "id": "7fce587e-62f7-44ba-a117-c8324253cac2",
   "metadata": {},
   "outputs": [],
   "source": [
    "# Syntax\n",
    "# RDD.foreach(f: Callable[[T], None]) → None"
   ]
  },
  {
   "cell_type": "code",
   "execution_count": 6,
   "id": "d4277ff3-d070-48b8-abd7-f2bfb850790c",
   "metadata": {},
   "outputs": [
    {
     "name": "stdout",
     "output_type": "stream",
     "text": [
      "15\n"
     ]
    }
   ],
   "source": [
    "# foreach() with RDD example\n",
    "accum=spark.sparkContext.accumulator(0)\n",
    "rdd=spark.sparkContext.parallelize([1,2,3,4,5])\n",
    "rdd.foreach(lambda x:accum.add(x))\n",
    "print(accum.value) #Accessed by driver"
   ]
  },
  {
   "cell_type": "code",
   "execution_count": null,
   "id": "59cc64a5-06e0-49a6-bc9c-b04cfe6c3602",
   "metadata": {},
   "outputs": [],
   "source": []
  }
 ],
 "metadata": {
  "kernelspec": {
   "display_name": "Python 3 (ipykernel)",
   "language": "python",
   "name": "python3"
  },
  "language_info": {
   "codemirror_mode": {
    "name": "ipython",
    "version": 3
   },
   "file_extension": ".py",
   "mimetype": "text/x-python",
   "name": "python",
   "nbconvert_exporter": "python",
   "pygments_lexer": "ipython3",
   "version": "3.10.9"
  }
 },
 "nbformat": 4,
 "nbformat_minor": 5
}
