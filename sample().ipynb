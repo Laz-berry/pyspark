{
 "cells": [
  {
   "cell_type": "code",
   "execution_count": 1,
   "id": "61adef4b-f620-4134-9127-3288b4750aad",
   "metadata": {},
   "outputs": [],
   "source": [
    "import findspark\n",
    "findspark.init()"
   ]
  },
  {
   "cell_type": "code",
   "execution_count": 4,
   "id": "a7c044be-fb55-4c90-911c-d81eb2e477b2",
   "metadata": {},
   "outputs": [
    {
     "ename": "NameError",
     "evalue": "name 'sample' is not defined",
     "output_type": "error",
     "traceback": [
      "\u001b[1;31m---------------------------------------------------------------------------\u001b[0m",
      "\u001b[1;31mNameError\u001b[0m                                 Traceback (most recent call last)",
      "Cell \u001b[1;32mIn[4], line 2\u001b[0m\n\u001b[0;32m      1\u001b[0m \u001b[38;5;66;03m# sample Syntax\u001b[39;00m\n\u001b[1;32m----> 2\u001b[0m \u001b[43msample\u001b[49m(withReplacement, fraction, seed\u001b[38;5;241m=\u001b[39m\u001b[38;5;28;01mNone\u001b[39;00m)\n\u001b[0;32m      4\u001b[0m \u001b[38;5;124;03m\"\"\"\u001b[39;00m\n\u001b[0;32m      5\u001b[0m \u001b[38;5;124;03mfraction : 생성할 행의 비율 [0.0 ~ 1.0]\u001b[39;00m\n\u001b[0;32m      6\u001b[0m \u001b[38;5;124;03mseed : 샘플링을 위한 시드(default = 임의 시드)\u001b[39;00m\n\u001b[0;32m      7\u001b[0m \u001b[38;5;124;03mwithReplacement : 샘플 교체 여부 (default = False)\u001b[39;00m\n\u001b[0;32m      8\u001b[0m \u001b[38;5;124;03m\"\"\"\u001b[39;00m\n",
      "\u001b[1;31mNameError\u001b[0m: name 'sample' is not defined"
     ]
    }
   ],
   "source": [
    "# sample Syntax\n",
    "sample(withReplacement, fraction, seed=None)\n",
    "\n",
    "\"\"\"\n",
    "fraction : 생성할 행의 비율 [0.0 ~ 1.0]\n",
    "seed : 샘플링을 위한 시드(default = 임의 시드)\n",
    "withReplacement : 샘플 교체 여부 (default = False)\n",
    "\"\"\""
   ]
  },
  {
   "cell_type": "code",
   "execution_count": 5,
   "id": "44eb167c-d244-4f86-93fa-3e727d3f1a07",
   "metadata": {},
   "outputs": [
    {
     "name": "stdout",
     "output_type": "stream",
     "text": [
      "[Row(id=18), Row(id=48), Row(id=49), Row(id=70), Row(id=75), Row(id=78), Row(id=87), Row(id=89)]\n"
     ]
    }
   ],
   "source": [
    "from pyspark.sql import SparkSession\n",
    "spark = SparkSession.builder \\\n",
    "    .master(\"local[1]\") \\\n",
    "    .appName(\"SparkByExamples.com\") \\\n",
    "    .getOrCreate()\n",
    "\n",
    "df=spark.range(100)\n",
    "print(df.sample(0.06).collect())"
   ]
  },
  {
   "cell_type": "code",
   "execution_count": 6,
   "id": "61179de4-5331-40c7-9c2f-bc3b9851d446",
   "metadata": {},
   "outputs": [
    {
     "name": "stdout",
     "output_type": "stream",
     "text": [
      "[Row(id=36), Row(id=37), Row(id=41), Row(id=43), Row(id=56), Row(id=66), Row(id=69), Row(id=75), Row(id=83)]\n",
      "[Row(id=36), Row(id=37), Row(id=41), Row(id=43), Row(id=56), Row(id=66), Row(id=69), Row(id=75), Row(id=83)]\n",
      "[Row(id=19), Row(id=21), Row(id=42), Row(id=48), Row(id=49), Row(id=50), Row(id=75), Row(id=80)]\n"
     ]
    }
   ],
   "source": [
    "print(df.sample(0.1,123).collect())\n",
    "\n",
    "print(df.sample(0.1,123).collect())\n",
    "\n",
    "print(df.sample(0.1,456).collect())"
   ]
  },
  {
   "cell_type": "code",
   "execution_count": 9,
   "id": "4f89f0ea-28ed-46b2-90a8-6314debf97f0",
   "metadata": {},
   "outputs": [
    {
     "name": "stdout",
     "output_type": "stream",
     "text": [
      "[Row(id=0), Row(id=5), Row(id=9), Row(id=11), Row(id=14), Row(id=14), Row(id=16), Row(id=17), Row(id=21), Row(id=29), Row(id=33), Row(id=41), Row(id=42), Row(id=52), Row(id=52), Row(id=54), Row(id=58), Row(id=65), Row(id=65), Row(id=71), Row(id=76), Row(id=79), Row(id=85), Row(id=96)]\n",
      "[Row(id=0), Row(id=4), Row(id=17), Row(id=19), Row(id=24), Row(id=25), Row(id=26), Row(id=36), Row(id=37), Row(id=41), Row(id=43), Row(id=44), Row(id=53), Row(id=56), Row(id=66), Row(id=68), Row(id=69), Row(id=70), Row(id=71), Row(id=75), Row(id=76), Row(id=78), Row(id=83), Row(id=84), Row(id=88), Row(id=94), Row(id=96), Row(id=97), Row(id=98)]\n"
     ]
    }
   ],
   "source": [
    "# with Duplicates\n",
    "print(df.sample(True,0.3,123).collect())\n",
    "\n",
    "# No Duplicates\n",
    "print(df.sample(0.3,123).collect()) "
   ]
  },
  {
   "cell_type": "code",
   "execution_count": 10,
   "id": "380a5544-508f-45f2-97ef-7060e62fd649",
   "metadata": {},
   "outputs": [
    {
     "ename": "NameError",
     "evalue": "name 'sampleBy' is not defined",
     "output_type": "error",
     "traceback": [
      "\u001b[1;31m---------------------------------------------------------------------------\u001b[0m",
      "\u001b[1;31mNameError\u001b[0m                                 Traceback (most recent call last)",
      "Cell \u001b[1;32mIn[10], line 2\u001b[0m\n\u001b[0;32m      1\u001b[0m \u001b[38;5;66;03m# SampleBy를 이용한 층화 샘플링\u001b[39;00m\n\u001b[1;32m----> 2\u001b[0m \u001b[43msampleBy\u001b[49m(col, fractions, seed\u001b[38;5;241m=\u001b[39m\u001b[38;5;28;01mNone\u001b[39;00m)\n",
      "\u001b[1;31mNameError\u001b[0m: name 'sampleBy' is not defined"
     ]
    }
   ],
   "source": [
    "# SampleBy를 이용한 층화 샘플링\n",
    "sampleBy(col, fractions, seed=None)"
   ]
  },
  {
   "cell_type": "code",
   "execution_count": 16,
   "id": "43bd4743-d199-4017-af70-9278c094b3f0",
   "metadata": {},
   "outputs": [
    {
     "name": "stdout",
     "output_type": "stream",
     "text": [
      "[Row(key=0), Row(key=1), Row(key=2), Row(key=0), Row(key=1), Row(key=2), Row(key=0), Row(key=1), Row(key=2), Row(key=0), Row(key=1), Row(key=2), Row(key=0), Row(key=1), Row(key=2), Row(key=0), Row(key=1), Row(key=2), Row(key=0), Row(key=1), Row(key=2), Row(key=0), Row(key=1), Row(key=2), Row(key=0), Row(key=1), Row(key=2), Row(key=0), Row(key=1), Row(key=2), Row(key=0), Row(key=1), Row(key=2), Row(key=0), Row(key=1), Row(key=2), Row(key=0), Row(key=1), Row(key=2), Row(key=0), Row(key=1), Row(key=2), Row(key=0), Row(key=1), Row(key=2), Row(key=0), Row(key=1), Row(key=2), Row(key=0), Row(key=1), Row(key=2), Row(key=0), Row(key=1), Row(key=2), Row(key=0), Row(key=1), Row(key=2), Row(key=0), Row(key=1), Row(key=2), Row(key=0), Row(key=1), Row(key=2), Row(key=0), Row(key=1), Row(key=2), Row(key=0), Row(key=1), Row(key=2), Row(key=0), Row(key=1), Row(key=2), Row(key=0), Row(key=1), Row(key=2), Row(key=0), Row(key=1), Row(key=2), Row(key=0), Row(key=1), Row(key=2), Row(key=0), Row(key=1), Row(key=2), Row(key=0), Row(key=1), Row(key=2), Row(key=0), Row(key=1), Row(key=2), Row(key=0), Row(key=1), Row(key=2), Row(key=0), Row(key=1), Row(key=2), Row(key=0), Row(key=1), Row(key=2), Row(key=0)]\n",
      "\n",
      "-----SampleBy-----\n",
      "[Row(key=0), Row(key=1), Row(key=1), Row(key=1), Row(key=0), Row(key=1), Row(key=1), Row(key=0), Row(key=1), Row(key=1), Row(key=1)]\n"
     ]
    }
   ],
   "source": [
    "df2=df.select((df.id % 3).alias(\"key\"))\n",
    "print(df2.collect())\n",
    "print()\n",
    "\n",
    "print(\"-----SampleBy-----\")\n",
    "print(df2.sampleBy(\"key\", {0: 0.1, 1: 0.2},0).collect())"
   ]
  },
  {
   "cell_type": "code",
   "execution_count": 17,
   "id": "99632426-8fb7-4538-81e5-b110702214fd",
   "metadata": {},
   "outputs": [
    {
     "ename": "NameError",
     "evalue": "name 'sample' is not defined",
     "output_type": "error",
     "traceback": [
      "\u001b[1;31m---------------------------------------------------------------------------\u001b[0m",
      "\u001b[1;31mNameError\u001b[0m                                 Traceback (most recent call last)",
      "Cell \u001b[1;32mIn[17], line 2\u001b[0m\n\u001b[0;32m      1\u001b[0m \u001b[38;5;66;03m#  RDD sample Syntax\u001b[39;00m\n\u001b[1;32m----> 2\u001b[0m \u001b[43msample\u001b[49m(\u001b[38;5;28mself\u001b[39m, withReplacement, fraction, seed\u001b[38;5;241m=\u001b[39m\u001b[38;5;28;01mNone\u001b[39;00m)\n\u001b[0;32m      4\u001b[0m \u001b[38;5;124;03m\"\"\"\u001b[39;00m\n\u001b[0;32m      5\u001b[0m \u001b[38;5;124;03mfraction : 생성할 행의 비율 [0.0 ~ 1.0]\u001b[39;00m\n\u001b[0;32m      6\u001b[0m \u001b[38;5;124;03mseed : 샘플링을 위한 시드(default = 임의 시드)\u001b[39;00m\n\u001b[0;32m      7\u001b[0m \u001b[38;5;124;03mwithReplacement : 샘플 교체 여부 (default = False)\u001b[39;00m\n\u001b[0;32m      8\u001b[0m \u001b[38;5;124;03m\"\"\"\u001b[39;00m\n",
      "\u001b[1;31mNameError\u001b[0m: name 'sample' is not defined"
     ]
    }
   ],
   "source": [
    "#  RDD sample Syntax\n",
    "sample(self, withReplacement, fraction, seed=None)\n",
    "\n",
    "\"\"\"\n",
    "fraction : 생성할 행의 비율 [0.0 ~ 1.0]\n",
    "seed : 샘플링을 위한 시드(default = 임의 시드)\n",
    "withReplacement : 샘플 교체 여부 (default = False)\n",
    "\"\"\""
   ]
  },
  {
   "cell_type": "code",
   "execution_count": 18,
   "id": "9b46a06b-0fcb-49de-b44e-b3e6c22de696",
   "metadata": {},
   "outputs": [
    {
     "name": "stdout",
     "output_type": "stream",
     "text": [
      "[24, 29, 41, 64, 86]\n",
      "[0, 11, 13, 14, 16, 18, 21, 23, 27, 31, 32, 32, 48, 49, 49, 53, 54, 72, 74, 77, 77, 83, 88, 91, 93, 98, 99]\n"
     ]
    }
   ],
   "source": [
    "rdd = spark.sparkContext.range(0,100)\n",
    "print(rdd.sample(False,0.1,0).collect())\n",
    "\n",
    "print(rdd.sample(True,0.3,123).collect())"
   ]
  },
  {
   "cell_type": "code",
   "execution_count": 19,
   "id": "3230b400-6379-4043-82ed-b5da05e462a4",
   "metadata": {},
   "outputs": [
    {
     "ename": "NameError",
     "evalue": "name 'takeSample' is not defined",
     "output_type": "error",
     "traceback": [
      "\u001b[1;31m---------------------------------------------------------------------------\u001b[0m",
      "\u001b[1;31mNameError\u001b[0m                                 Traceback (most recent call last)",
      "Cell \u001b[1;32mIn[19], line 2\u001b[0m\n\u001b[0;32m      1\u001b[0m \u001b[38;5;66;03m# RDD Syntax\u001b[39;00m\n\u001b[1;32m----> 2\u001b[0m \u001b[43mtakeSample\u001b[49m(\u001b[38;5;28mself\u001b[39m, withReplacement, num, seed\u001b[38;5;241m=\u001b[39m\u001b[38;5;28;01mNone\u001b[39;00m)\n",
      "\u001b[1;31mNameError\u001b[0m: name 'takeSample' is not defined"
     ]
    }
   ],
   "source": [
    "# RDD Syntax\n",
    "takeSample(self, withReplacement, num, seed=None)"
   ]
  },
  {
   "cell_type": "code",
   "execution_count": 20,
   "id": "7b24a2c1-19e5-4f51-b469-d0a9d6259f7d",
   "metadata": {},
   "outputs": [
    {
     "name": "stdout",
     "output_type": "stream",
     "text": [
      "[58, 1, 96, 74, 29, 24, 32, 37, 94, 91]\n",
      "[43, 65, 39, 18, 84, 86, 25, 13, 40, 21, 79, 63, 7, 32, 26, 71, 23, 61, 83, 60, 22, 35, 84, 22, 0, 88, 16, 40, 65, 84]\n"
     ]
    }
   ],
   "source": [
    "print(rdd.takeSample(False,10,0))\n",
    "\n",
    "print(rdd.takeSample(True,30,123))"
   ]
  },
  {
   "cell_type": "code",
   "execution_count": null,
   "id": "c563861f-6b42-4bdd-9ddf-c8233a92f2e8",
   "metadata": {},
   "outputs": [],
   "source": []
  }
 ],
 "metadata": {
  "kernelspec": {
   "display_name": "Python 3 (ipykernel)",
   "language": "python",
   "name": "python3"
  },
  "language_info": {
   "codemirror_mode": {
    "name": "ipython",
    "version": 3
   },
   "file_extension": ".py",
   "mimetype": "text/x-python",
   "name": "python",
   "nbconvert_exporter": "python",
   "pygments_lexer": "ipython3",
   "version": "3.10.9"
  }
 },
 "nbformat": 4,
 "nbformat_minor": 5
}
