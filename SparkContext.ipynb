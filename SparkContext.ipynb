{
 "cells": [
  {
   "cell_type": "code",
   "execution_count": 1,
   "id": "b05ea33e-9301-41d8-893c-0934ddf7e9fa",
   "metadata": {},
   "outputs": [],
   "source": [
    "import findspark\n",
    "findspark.init()"
   ]
  },
  {
   "cell_type": "code",
   "execution_count": 2,
   "id": "9178c438-8de9-4f67-abfb-fba1ac26765b",
   "metadata": {},
   "outputs": [],
   "source": [
    "from pyspark.sql import SparkSession\n",
    "\n",
    "spark = SparkSession.builder.master(\"local[1]\")\\\n",
    "            .appName('SparkByExamples.com')\\\n",
    "            .getOrCreate()"
   ]
  },
  {
   "cell_type": "code",
   "execution_count": 3,
   "id": "ee634e83-bd1f-4595-a2ae-d108834fdc87",
   "metadata": {},
   "outputs": [
    {
     "name": "stdout",
     "output_type": "stream",
     "text": [
      "<SparkContext master=local[1] appName=SparkByExamples.com>\n",
      "Spark App Name: SparkByExamples.com\n"
     ]
    }
   ],
   "source": [
    "print(spark.sparkContext)\n",
    "print(\"Spark App Name: \" + spark.sparkContext.appName)"
   ]
  },
  {
   "cell_type": "code",
   "execution_count": 6,
   "id": "a9b6ad00-0e15-4547-9053-c351ec497584",
   "metadata": {},
   "outputs": [],
   "source": [
    "# SparkContext stop() method\n",
    "spark.sparkContext.stop()"
   ]
  },
  {
   "cell_type": "code",
   "execution_count": 7,
   "id": "b59ef1ba-a5da-4afb-ba94-838a878c123f",
   "metadata": {},
   "outputs": [
    {
     "name": "stdout",
     "output_type": "stream",
     "text": [
      "Spark_Example_App\n"
     ]
    }
   ],
   "source": [
    "# Create Spark Context\n",
    "from pyspark import SparkContext\n",
    "\n",
    "sc = SparkContext(\"local\", \"Spark_Example_App\")\n",
    "print(sc.appName)"
   ]
  },
  {
   "cell_type": "code",
   "execution_count": 8,
   "id": "7f3e75f5-eaf7-44d2-8c37-938827bf6c86",
   "metadata": {},
   "outputs": [
    {
     "name": "stdout",
     "output_type": "stream",
     "text": [
      "Spark_Example_App\n"
     ]
    }
   ],
   "source": [
    "# Create Spark Context \n",
    "from pyspark import SparkConf, SparkContext\n",
    "\n",
    "conf = SparkConf()\n",
    "conf.setMaster(\"local\").setAppName(\"Spark Example App\")\n",
    "sc = SparkContext.getOrCreate(conf)\n",
    "print(sc.appName)"
   ]
  },
  {
   "cell_type": "code",
   "execution_count": 20,
   "id": "2f997b71-956c-4923-bd34-c7ff70d581c1",
   "metadata": {},
   "outputs": [
    {
     "name": "stdout",
     "output_type": "stream",
     "text": [
      "[1, 2, 3, 4]\n"
     ]
    }
   ],
   "source": [
    "# Create RDD\n",
    "rdd = sc.range(1, 5)\n",
    "print(rdd.collect())"
   ]
  }
 ],
 "metadata": {
  "kernelspec": {
   "display_name": "Python 3 (ipykernel)",
   "language": "python",
   "name": "python3"
  },
  "language_info": {
   "codemirror_mode": {
    "name": "ipython",
    "version": 3
   },
   "file_extension": ".py",
   "mimetype": "text/x-python",
   "name": "python",
   "nbconvert_exporter": "python",
   "pygments_lexer": "ipython3",
   "version": "3.10.9"
  }
 },
 "nbformat": 4,
 "nbformat_minor": 5
}
